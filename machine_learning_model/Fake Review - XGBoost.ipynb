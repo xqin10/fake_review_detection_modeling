{
 "cells": [
  {
   "cell_type": "markdown",
   "id": "strange-canvas",
   "metadata": {},
   "source": [
    "\n",
    "\n",
    "## Library import\n",
    "We import all the required Python libraries"
   ]
  },
  {
   "cell_type": "code",
   "execution_count": 2,
   "id": "facial-convertible",
   "metadata": {
    "ExecuteTime": {
     "end_time": "2021-04-03T00:41:22.600654Z",
     "start_time": "2021-04-03T00:41:22.595044Z"
    }
   },
   "outputs": [
    {
     "name": "stdout",
     "output_type": "stream",
     "text": [
      "INFO: Pandarallel will run on 24 workers.\n",
      "INFO: Pandarallel will use Memory file system to transfer data between the main process and workers.\n"
     ]
    }
   ],
   "source": [
    "# Data manipulation\n",
    "import pandas as pd\n",
    "import numpy as np\n",
    "#import xgboost as xgb\n",
    "#from catboost import Pool,CatBoostClassifier\n",
    "from sklearn.linear_model import LogisticRegression\n",
    "from sklearn.svm import SVC\n",
    "from sklearn.naive_bayes import MultinomialNB\n",
    "# Options for pandas\n",
    "pd.options.display.max_columns = 50\n",
    "pd.options.display.max_rows = 30\n",
    "\n",
    "# showing multiple outputs \n",
    "from IPython.core.interactiveshell import InteractiveShell\n",
    "InteractiveShell.ast_node_interactivity = \"all\"\n",
    "\n",
    "from pandarallel import pandarallel\n",
    "\n",
    "# Initialization\n",
    "pandarallel.initialize(progress_bar=True)\n",
    "\n",
    "from sklearn.metrics import precision_score, recall_score, f1_score, accuracy_score, confusion_matrix, matthews_corrcoef\n",
    "\n",
    "#import lazypredict\n",
    "#from lazypredict.Supervised import LazyClassifier\n"
   ]
  },
  {
   "cell_type": "code",
   "execution_count": 3,
   "id": "completed-entity",
   "metadata": {
    "ExecuteTime": {
     "end_time": "2021-04-03T00:35:54.955597Z",
     "start_time": "2021-04-03T00:35:54.953960Z"
    }
   },
   "outputs": [],
   "source": [
    "#!pip3 install pandarallel\n",
    "#!pip3 list"
   ]
  },
  {
   "cell_type": "markdown",
   "id": "adjusted-america",
   "metadata": {},
   "source": [
    "## Local library import\n",
    "We import all the required local libraries libraries"
   ]
  },
  {
   "cell_type": "code",
   "execution_count": 4,
   "id": "sudden-nicaragua",
   "metadata": {
    "ExecuteTime": {
     "end_time": "2021-04-03T00:35:55.158554Z",
     "start_time": "2021-04-03T00:35:55.058240Z"
    }
   },
   "outputs": [],
   "source": [
    "# Include local library paths\n",
    "import sys\n",
    "# sys.path.append('path/to/local/lib') # uncomment and fill to import local libraries\n",
    "\n",
    "# Import local libraries"
   ]
  },
  {
   "cell_type": "markdown",
   "id": "together-extreme",
   "metadata": {},
   "source": [
    "# Parameter definition\n",
    "We set all relevant parameters for our notebook. By convention, parameters are uppercase, while all the \n",
    "other variables follow Python's guidelines."
   ]
  },
  {
   "cell_type": "markdown",
   "id": "bibliographic-provincial",
   "metadata": {},
   "source": [
    "\n",
    "# Data import\n",
    "We retrieve all the required data for the analysis."
   ]
  },
  {
   "cell_type": "code",
   "execution_count": 5,
   "id": "medical-strain",
   "metadata": {
    "ExecuteTime": {
     "end_time": "2021-04-03T00:36:35.235456Z",
     "start_time": "2021-04-03T00:35:55.160251Z"
    }
   },
   "outputs": [],
   "source": [
    "deceptive_opinion = pd.read_csv('deceptive-opinion.csv')\n",
    "Yelp_review_sentiments = pd.read_excel('Yelp Labelled Review Dataset with Sentiments and Features.xlsx',engine='openpyxl')"
   ]
  },
  {
   "cell_type": "markdown",
   "id": "british-atlantic",
   "metadata": {},
   "source": [
    "# Data processing\n",
    "Put here the core of the notebook. Feel free di further split this section into subsections."
   ]
  },
  {
   "cell_type": "code",
   "execution_count": 6,
   "id": "religious-cornell",
   "metadata": {
    "ExecuteTime": {
     "end_time": "2021-04-03T00:36:35.250792Z",
     "start_time": "2021-04-03T00:36:35.236270Z"
    }
   },
   "outputs": [],
   "source": [
    "Yelp_review_sentiments['deceptive'] = Yelp_review_sentiments['Spam(1) and Not Spam(0)'].map({1: 'deceptive', 0: 'truthful'})\n",
    "Yelp_review_sentiments['text'] = Yelp_review_sentiments[\"Review\"]"
   ]
  },
  {
   "cell_type": "code",
   "execution_count": 7,
   "id": "intended-queens",
   "metadata": {
    "ExecuteTime": {
     "end_time": "2021-04-03T00:36:35.430857Z",
     "start_time": "2021-04-03T00:36:35.251839Z"
    }
   },
   "outputs": [
    {
     "data": {
      "text/html": [
       "<div>\n",
       "<style scoped>\n",
       "    .dataframe tbody tr th:only-of-type {\n",
       "        vertical-align: middle;\n",
       "    }\n",
       "\n",
       "    .dataframe tbody tr th {\n",
       "        vertical-align: top;\n",
       "    }\n",
       "\n",
       "    .dataframe thead th {\n",
       "        text-align: right;\n",
       "    }\n",
       "</style>\n",
       "<table border=\"1\" class=\"dataframe\">\n",
       "  <thead>\n",
       "    <tr style=\"text-align: right;\">\n",
       "      <th></th>\n",
       "      <th>deceptive</th>\n",
       "      <th>hotel</th>\n",
       "      <th>polarity</th>\n",
       "      <th>source</th>\n",
       "      <th>text</th>\n",
       "    </tr>\n",
       "  </thead>\n",
       "  <tbody>\n",
       "    <tr>\n",
       "      <th>0</th>\n",
       "      <td>truthful</td>\n",
       "      <td>conrad</td>\n",
       "      <td>positive</td>\n",
       "      <td>TripAdvisor</td>\n",
       "      <td>We stayed for a one night getaway with family ...</td>\n",
       "    </tr>\n",
       "    <tr>\n",
       "      <th>1</th>\n",
       "      <td>truthful</td>\n",
       "      <td>hyatt</td>\n",
       "      <td>positive</td>\n",
       "      <td>TripAdvisor</td>\n",
       "      <td>Triple A rate with upgrade to view room was le...</td>\n",
       "    </tr>\n",
       "    <tr>\n",
       "      <th>2</th>\n",
       "      <td>truthful</td>\n",
       "      <td>hyatt</td>\n",
       "      <td>positive</td>\n",
       "      <td>TripAdvisor</td>\n",
       "      <td>This comes a little late as I'm finally catchi...</td>\n",
       "    </tr>\n",
       "    <tr>\n",
       "      <th>3</th>\n",
       "      <td>truthful</td>\n",
       "      <td>omni</td>\n",
       "      <td>positive</td>\n",
       "      <td>TripAdvisor</td>\n",
       "      <td>The Omni Chicago really delivers on all fronts...</td>\n",
       "    </tr>\n",
       "    <tr>\n",
       "      <th>4</th>\n",
       "      <td>truthful</td>\n",
       "      <td>hyatt</td>\n",
       "      <td>positive</td>\n",
       "      <td>TripAdvisor</td>\n",
       "      <td>I asked for a high floor away from the elevato...</td>\n",
       "    </tr>\n",
       "    <tr>\n",
       "      <th>...</th>\n",
       "      <td>...</td>\n",
       "      <td>...</td>\n",
       "      <td>...</td>\n",
       "      <td>...</td>\n",
       "      <td>...</td>\n",
       "    </tr>\n",
       "    <tr>\n",
       "      <th>1595</th>\n",
       "      <td>deceptive</td>\n",
       "      <td>intercontinental</td>\n",
       "      <td>negative</td>\n",
       "      <td>MTurk</td>\n",
       "      <td>Problems started when I booked the InterContin...</td>\n",
       "    </tr>\n",
       "    <tr>\n",
       "      <th>1596</th>\n",
       "      <td>deceptive</td>\n",
       "      <td>amalfi</td>\n",
       "      <td>negative</td>\n",
       "      <td>MTurk</td>\n",
       "      <td>The Amalfi Hotel has a beautiful website and i...</td>\n",
       "    </tr>\n",
       "    <tr>\n",
       "      <th>1597</th>\n",
       "      <td>deceptive</td>\n",
       "      <td>intercontinental</td>\n",
       "      <td>negative</td>\n",
       "      <td>MTurk</td>\n",
       "      <td>The Intercontinental Chicago Magnificent Mile ...</td>\n",
       "    </tr>\n",
       "    <tr>\n",
       "      <th>1598</th>\n",
       "      <td>deceptive</td>\n",
       "      <td>palmer</td>\n",
       "      <td>negative</td>\n",
       "      <td>MTurk</td>\n",
       "      <td>The Palmer House Hilton, while it looks good i...</td>\n",
       "    </tr>\n",
       "    <tr>\n",
       "      <th>1599</th>\n",
       "      <td>deceptive</td>\n",
       "      <td>amalfi</td>\n",
       "      <td>negative</td>\n",
       "      <td>MTurk</td>\n",
       "      <td>As a former Chicagoan, I'm appalled at the Ama...</td>\n",
       "    </tr>\n",
       "  </tbody>\n",
       "</table>\n",
       "<p>1600 rows × 5 columns</p>\n",
       "</div>"
      ],
      "text/plain": [
       "      deceptive             hotel  polarity       source  \\\n",
       "0      truthful            conrad  positive  TripAdvisor   \n",
       "1      truthful             hyatt  positive  TripAdvisor   \n",
       "2      truthful             hyatt  positive  TripAdvisor   \n",
       "3      truthful              omni  positive  TripAdvisor   \n",
       "4      truthful             hyatt  positive  TripAdvisor   \n",
       "...         ...               ...       ...          ...   \n",
       "1595  deceptive  intercontinental  negative        MTurk   \n",
       "1596  deceptive            amalfi  negative        MTurk   \n",
       "1597  deceptive  intercontinental  negative        MTurk   \n",
       "1598  deceptive            palmer  negative        MTurk   \n",
       "1599  deceptive            amalfi  negative        MTurk   \n",
       "\n",
       "                                                   text  \n",
       "0     We stayed for a one night getaway with family ...  \n",
       "1     Triple A rate with upgrade to view room was le...  \n",
       "2     This comes a little late as I'm finally catchi...  \n",
       "3     The Omni Chicago really delivers on all fronts...  \n",
       "4     I asked for a high floor away from the elevato...  \n",
       "...                                                 ...  \n",
       "1595  Problems started when I booked the InterContin...  \n",
       "1596  The Amalfi Hotel has a beautiful website and i...  \n",
       "1597  The Intercontinental Chicago Magnificent Mile ...  \n",
       "1598  The Palmer House Hilton, while it looks good i...  \n",
       "1599  As a former Chicagoan, I'm appalled at the Ama...  \n",
       "\n",
       "[1600 rows x 5 columns]"
      ]
     },
     "execution_count": 7,
     "metadata": {},
     "output_type": "execute_result"
    },
    {
     "data": {
      "text/html": [
       "<div>\n",
       "<style scoped>\n",
       "    .dataframe tbody tr th:only-of-type {\n",
       "        vertical-align: middle;\n",
       "    }\n",
       "\n",
       "    .dataframe tbody tr th {\n",
       "        vertical-align: top;\n",
       "    }\n",
       "\n",
       "    .dataframe thead th {\n",
       "        text-align: right;\n",
       "    }\n",
       "</style>\n",
       "<table border=\"1\" class=\"dataframe\">\n",
       "  <thead>\n",
       "    <tr style=\"text-align: right;\">\n",
       "      <th></th>\n",
       "      <th>User_id</th>\n",
       "      <th>Product_id</th>\n",
       "      <th>Rating</th>\n",
       "      <th>Date</th>\n",
       "      <th>Review</th>\n",
       "      <th>Spam(1) and Not Spam(0)</th>\n",
       "      <th>Sentiment</th>\n",
       "      <th>Features</th>\n",
       "      <th>deceptive</th>\n",
       "      <th>text</th>\n",
       "    </tr>\n",
       "  </thead>\n",
       "  <tbody>\n",
       "    <tr>\n",
       "      <th>0</th>\n",
       "      <td>923</td>\n",
       "      <td>0</td>\n",
       "      <td>3</td>\n",
       "      <td>2014-01-30</td>\n",
       "      <td>The food at snack is a selection of popular Gr...</td>\n",
       "      <td>1</td>\n",
       "      <td>Positive</td>\n",
       "      <td>['appetizer tray', 'greek salad', 'main courses']</td>\n",
       "      <td>deceptive</td>\n",
       "      <td>The food at snack is a selection of popular Gr...</td>\n",
       "    </tr>\n",
       "    <tr>\n",
       "      <th>1</th>\n",
       "      <td>924</td>\n",
       "      <td>0</td>\n",
       "      <td>3</td>\n",
       "      <td>2011-05-05</td>\n",
       "      <td>This little place in Soho is wonderful. I had ...</td>\n",
       "      <td>1</td>\n",
       "      <td>Positive</td>\n",
       "      <td>['little place', 'soho', 'lamb sandwich', 'soh...</td>\n",
       "      <td>deceptive</td>\n",
       "      <td>This little place in Soho is wonderful. I had ...</td>\n",
       "    </tr>\n",
       "    <tr>\n",
       "      <th>2</th>\n",
       "      <td>925</td>\n",
       "      <td>0</td>\n",
       "      <td>4</td>\n",
       "      <td>2011-12-30</td>\n",
       "      <td>ordered lunch for 15 from Snack last Friday. Ã...</td>\n",
       "      <td>1</td>\n",
       "      <td>Positive</td>\n",
       "      <td>['snack', 'regular company lunch list']</td>\n",
       "      <td>deceptive</td>\n",
       "      <td>ordered lunch for 15 from Snack last Friday. Ã...</td>\n",
       "    </tr>\n",
       "    <tr>\n",
       "      <th>3</th>\n",
       "      <td>926</td>\n",
       "      <td>0</td>\n",
       "      <td>4</td>\n",
       "      <td>2012-10-04</td>\n",
       "      <td>This is a beautiful quaint little restaurant o...</td>\n",
       "      <td>1</td>\n",
       "      <td>Positive</td>\n",
       "      <td>['beautiful quaint', 'pretty street', 'great p...</td>\n",
       "      <td>deceptive</td>\n",
       "      <td>This is a beautiful quaint little restaurant o...</td>\n",
       "    </tr>\n",
       "    <tr>\n",
       "      <th>4</th>\n",
       "      <td>927</td>\n",
       "      <td>0</td>\n",
       "      <td>4</td>\n",
       "      <td>2014-02-06</td>\n",
       "      <td>Snack is great place for a Ã‚Â casual sit down...</td>\n",
       "      <td>1</td>\n",
       "      <td>Positive</td>\n",
       "      <td>['snack', 'great place', 'Ã¢ casual', 'cold wi...</td>\n",
       "      <td>deceptive</td>\n",
       "      <td>Snack is great place for a Ã‚Â casual sit down...</td>\n",
       "    </tr>\n",
       "    <tr>\n",
       "      <th>...</th>\n",
       "      <td>...</td>\n",
       "      <td>...</td>\n",
       "      <td>...</td>\n",
       "      <td>...</td>\n",
       "      <td>...</td>\n",
       "      <td>...</td>\n",
       "      <td>...</td>\n",
       "      <td>...</td>\n",
       "      <td>...</td>\n",
       "      <td>...</td>\n",
       "    </tr>\n",
       "    <tr>\n",
       "      <th>355205</th>\n",
       "      <td>161146</td>\n",
       "      <td>349</td>\n",
       "      <td>1</td>\n",
       "      <td>2012-10-04</td>\n",
       "      <td>The aircondition makes so much noise and its ...</td>\n",
       "      <td>0</td>\n",
       "      <td>Negative</td>\n",
       "      <td>[]</td>\n",
       "      <td>truthful</td>\n",
       "      <td>The aircondition makes so much noise and its ...</td>\n",
       "    </tr>\n",
       "    <tr>\n",
       "      <th>355206</th>\n",
       "      <td>116424</td>\n",
       "      <td>349</td>\n",
       "      <td>1</td>\n",
       "      <td>2013-05-27</td>\n",
       "      <td>Even though the pictures show very clean room...</td>\n",
       "      <td>0</td>\n",
       "      <td>Negative</td>\n",
       "      <td>['clean rooms', 'actual room', 'o clock']</td>\n",
       "      <td>truthful</td>\n",
       "      <td>Even though the pictures show very clean room...</td>\n",
       "    </tr>\n",
       "    <tr>\n",
       "      <th>355207</th>\n",
       "      <td>161147</td>\n",
       "      <td>349</td>\n",
       "      <td>2</td>\n",
       "      <td>2011-03-03</td>\n",
       "      <td>Backyard of the hotel is total mess shouldn t...</td>\n",
       "      <td>0</td>\n",
       "      <td>Negative</td>\n",
       "      <td>['backyard', 'total mess shouldn t']</td>\n",
       "      <td>truthful</td>\n",
       "      <td>Backyard of the hotel is total mess shouldn t...</td>\n",
       "    </tr>\n",
       "    <tr>\n",
       "      <th>355208</th>\n",
       "      <td>97930</td>\n",
       "      <td>349</td>\n",
       "      <td>2</td>\n",
       "      <td>2014-07-29</td>\n",
       "      <td>You When I booked with your company on line y...</td>\n",
       "      <td>0</td>\n",
       "      <td>Negative</td>\n",
       "      <td>['s room', 'villa suite theough', 'wife s 40th...</td>\n",
       "      <td>truthful</td>\n",
       "      <td>You When I booked with your company on line y...</td>\n",
       "    </tr>\n",
       "    <tr>\n",
       "      <th>355209</th>\n",
       "      <td>5260</td>\n",
       "      <td>349</td>\n",
       "      <td>1</td>\n",
       "      <td>2013-02-07</td>\n",
       "      <td>My room was dirty and I was afraid to walk ba...</td>\n",
       "      <td>0</td>\n",
       "      <td>Negative</td>\n",
       "      <td>['white furniture', 'angry dog', 'shower drain...</td>\n",
       "      <td>truthful</td>\n",
       "      <td>My room was dirty and I was afraid to walk ba...</td>\n",
       "    </tr>\n",
       "  </tbody>\n",
       "</table>\n",
       "<p>355210 rows × 10 columns</p>\n",
       "</div>"
      ],
      "text/plain": [
       "        User_id  Product_id  Rating       Date  \\\n",
       "0           923           0       3 2014-01-30   \n",
       "1           924           0       3 2011-05-05   \n",
       "2           925           0       4 2011-12-30   \n",
       "3           926           0       4 2012-10-04   \n",
       "4           927           0       4 2014-02-06   \n",
       "...         ...         ...     ...        ...   \n",
       "355205   161146         349       1 2012-10-04   \n",
       "355206   116424         349       1 2013-05-27   \n",
       "355207   161147         349       2 2011-03-03   \n",
       "355208    97930         349       2 2014-07-29   \n",
       "355209     5260         349       1 2013-02-07   \n",
       "\n",
       "                                                   Review  \\\n",
       "0       The food at snack is a selection of popular Gr...   \n",
       "1       This little place in Soho is wonderful. I had ...   \n",
       "2       ordered lunch for 15 from Snack last Friday. Ã...   \n",
       "3       This is a beautiful quaint little restaurant o...   \n",
       "4       Snack is great place for a Ã‚Â casual sit down...   \n",
       "...                                                   ...   \n",
       "355205   The aircondition makes so much noise and its ...   \n",
       "355206   Even though the pictures show very clean room...   \n",
       "355207   Backyard of the hotel is total mess shouldn t...   \n",
       "355208   You When I booked with your company on line y...   \n",
       "355209   My room was dirty and I was afraid to walk ba...   \n",
       "\n",
       "        Spam(1) and Not Spam(0) Sentiment  \\\n",
       "0                             1  Positive   \n",
       "1                             1  Positive   \n",
       "2                             1  Positive   \n",
       "3                             1  Positive   \n",
       "4                             1  Positive   \n",
       "...                         ...       ...   \n",
       "355205                        0  Negative   \n",
       "355206                        0  Negative   \n",
       "355207                        0  Negative   \n",
       "355208                        0  Negative   \n",
       "355209                        0  Negative   \n",
       "\n",
       "                                                 Features  deceptive  \\\n",
       "0       ['appetizer tray', 'greek salad', 'main courses']  deceptive   \n",
       "1       ['little place', 'soho', 'lamb sandwich', 'soh...  deceptive   \n",
       "2                 ['snack', 'regular company lunch list']  deceptive   \n",
       "3       ['beautiful quaint', 'pretty street', 'great p...  deceptive   \n",
       "4       ['snack', 'great place', 'Ã¢ casual', 'cold wi...  deceptive   \n",
       "...                                                   ...        ...   \n",
       "355205                                                 []   truthful   \n",
       "355206          ['clean rooms', 'actual room', 'o clock']   truthful   \n",
       "355207               ['backyard', 'total mess shouldn t']   truthful   \n",
       "355208  ['s room', 'villa suite theough', 'wife s 40th...   truthful   \n",
       "355209  ['white furniture', 'angry dog', 'shower drain...   truthful   \n",
       "\n",
       "                                                     text  \n",
       "0       The food at snack is a selection of popular Gr...  \n",
       "1       This little place in Soho is wonderful. I had ...  \n",
       "2       ordered lunch for 15 from Snack last Friday. Ã...  \n",
       "3       This is a beautiful quaint little restaurant o...  \n",
       "4       Snack is great place for a Ã‚Â casual sit down...  \n",
       "...                                                   ...  \n",
       "355205   The aircondition makes so much noise and its ...  \n",
       "355206   Even though the pictures show very clean room...  \n",
       "355207   Backyard of the hotel is total mess shouldn t...  \n",
       "355208   You When I booked with your company on line y...  \n",
       "355209   My room was dirty and I was afraid to walk ba...  \n",
       "\n",
       "[355210 rows x 10 columns]"
      ]
     },
     "execution_count": 7,
     "metadata": {},
     "output_type": "execute_result"
    }
   ],
   "source": [
    "deceptive_opinion\n",
    "Yelp_review_sentiments"
   ]
  },
  {
   "cell_type": "code",
   "execution_count": 8,
   "id": "fitted-fortune",
   "metadata": {
    "ExecuteTime": {
     "end_time": "2021-04-03T00:36:36.129765Z",
     "start_time": "2021-04-03T00:36:35.432177Z"
    }
   },
   "outputs": [],
   "source": [
    "#filter deceptive opinion dataset with just text and label\n",
    "sub_deceptive_opinion = deceptive_opinion[[\"deceptive\", \"text\"]]"
   ]
  },
  {
   "cell_type": "code",
   "execution_count": 9,
   "id": "casual-synthetic",
   "metadata": {
    "ExecuteTime": {
     "end_time": "2021-04-03T00:36:36.930261Z",
     "start_time": "2021-04-03T00:36:36.131645Z"
    }
   },
   "outputs": [],
   "source": [
    "#filter Yelp dataset with just text and label\n",
    "sub_Yelp_review_sentiments = Yelp_review_sentiments[[\"deceptive\", \"text\"]]"
   ]
  },
  {
   "cell_type": "code",
   "execution_count": 10,
   "id": "amended-dylan",
   "metadata": {
    "ExecuteTime": {
     "end_time": "2021-04-03T00:36:37.031747Z",
     "start_time": "2021-04-03T00:36:36.931084Z"
    }
   },
   "outputs": [],
   "source": [
    "\n",
    "sub_Yelp_deceptive = sub_Yelp_review_sentiments[sub_Yelp_review_sentiments[\"deceptive\"] == \"deceptive\"].reset_index(drop = True)\n",
    "sub_Yelp_truthful = sub_Yelp_review_sentiments[sub_Yelp_review_sentiments[\"deceptive\"] == \"truthful\"].reset_index(drop = True).iloc[:36133,:]"
   ]
  },
  {
   "cell_type": "code",
   "execution_count": 11,
   "id": "essential-throat",
   "metadata": {
    "ExecuteTime": {
     "end_time": "2021-04-03T00:36:37.052681Z",
     "start_time": "2021-04-03T00:36:37.032567Z"
    }
   },
   "outputs": [],
   "source": [
    "#sub dataset of Yelp with around 36100 observations - balance class\n",
    "concat_data = pd.concat([sub_deceptive_opinion, sub_Yelp_deceptive,sub_Yelp_truthful],ignore_index=True)"
   ]
  },
  {
   "cell_type": "markdown",
   "id": "neither-berkeley",
   "metadata": {
    "ExecuteTime": {
     "end_time": "2021-03-26T23:13:59.164865Z",
     "start_time": "2021-03-26T23:13:59.037852Z"
    }
   },
   "source": [
    "sub_deceptive_opinion = deceptive_opinion[[\"deceptive\", \"text\"]]\n",
    "sub_Yelp_review_sentiments = Yelp_review_sentiments[[\"deceptive\", \"text\"]]\n",
    "concat_data = pd.concat([sub_deceptive_opinion, sub_Yelp_review_sentiments],ignore_index=True)"
   ]
  },
  {
   "cell_type": "code",
   "execution_count": 12,
   "id": "stopped-africa",
   "metadata": {
    "ExecuteTime": {
     "end_time": "2021-04-03T00:36:37.501096Z",
     "start_time": "2021-04-03T00:36:37.053426Z"
    }
   },
   "outputs": [],
   "source": [
    "import nltk\n",
    "from nltk.stem import PorterStemmer\n",
    "from nltk.tokenize import sent_tokenize, word_tokenize\n",
    "import re\n",
    "import string\n",
    "\n",
    "def clean_text(text):\n",
    "    '''\n",
    "    Make text lowercase, remove text in square brackets,remove links,remove special characters\n",
    "    and remove words containing numbers.\n",
    "    '''\n",
    "    #print(text)\n",
    "    if type(text) is str:\n",
    "        text = text.lower()\n",
    "        text = re.sub('\\[.*?\\]', '', text)\n",
    "        text = re.sub(\"\\\\W\",\" \",text) # remove special chars\n",
    "        text = re.sub('https?://\\S+|www\\.\\S+', '', text)\n",
    "        text = re.sub('<.*?>+', '', text)\n",
    "        text = re.sub('[%s]' % re.escape(string.punctuation), '', text)\n",
    "        text = re.sub('\\n', '', text)\n",
    "        text = re.sub('\\w*\\d\\w*', '', text)\n",
    "    else:\n",
    "        text = str(text)\n",
    "    \n",
    "    return text\n",
    "    "
   ]
  },
  {
   "cell_type": "code",
   "execution_count": 13,
   "id": "broken-capacity",
   "metadata": {
    "ExecuteTime": {
     "end_time": "2021-04-03T00:36:37.505231Z",
     "start_time": "2021-04-03T00:36:37.502096Z"
    }
   },
   "outputs": [],
   "source": [
    "import string\n",
    "#nltk.download('stopwords')\n",
    "from nltk.corpus import stopwords\n",
    "\n",
    "def remove_stopwords(text):\n",
    "    \"\"\"\n",
    "    Takes in a string of text, then performs the following:\n",
    "    1. Remove all punctuation\n",
    "    2. Remove all stopwords\n",
    "    3. Returns a list of the cleaned text\n",
    "    \"\"\"\n",
    "    STOPWORDS = stopwords.words('english') + ['u', 'ü', 'ur', '4', '2', 'im', 'dont', 'doin', 'ure']\n",
    "    # Check characters to see if they are in punctuation\n",
    "    nopunc = [char for char in text if char not in string.punctuation]\n",
    "\n",
    "    # Join the characters again to form the string.\n",
    "    nopunc = ''.join(nopunc)\n",
    "    \n",
    "    # Now just remove any stopwords\n",
    "    return ' '.join([word for word in nopunc.split() if word.lower() not in STOPWORDS])"
   ]
  },
  {
   "cell_type": "code",
   "execution_count": 14,
   "id": "maritime-therapist",
   "metadata": {
    "ExecuteTime": {
     "end_time": "2021-04-03T00:36:37.577230Z",
     "start_time": "2021-04-03T00:36:37.506072Z"
    }
   },
   "outputs": [],
   "source": [
    "stemmer = nltk.SnowballStemmer(\"english\")\n",
    "\n",
    "def stemm_text(text):\n",
    "    text = ' '.join(stemmer.stem(word) for word in text.split(' '))\n",
    "    return text"
   ]
  },
  {
   "cell_type": "code",
   "execution_count": 15,
   "id": "sunrise-bishop",
   "metadata": {
    "ExecuteTime": {
     "end_time": "2021-04-03T00:36:37.633418Z",
     "start_time": "2021-04-03T00:36:37.578404Z"
    }
   },
   "outputs": [],
   "source": [
    "def preprocess_data(text):\n",
    "    # Clean puntuation, urls, and so on\n",
    "    text = clean_text(text)\n",
    "    # Remove stopwords\n",
    "    text = remove_stopwords(text)\n",
    "    # Stemm all the words in the sentence\n",
    "    text = ' '.join(stemmer.stem(word) for word in text.split(' '))\n",
    "    \n",
    "    return text"
   ]
  },
  {
   "cell_type": "code",
   "execution_count": 16,
   "id": "incomplete-boost",
   "metadata": {
    "ExecuteTime": {
     "end_time": "2021-04-03T00:36:43.435877Z",
     "start_time": "2021-04-03T00:36:37.634694Z"
    }
   },
   "outputs": [
    {
     "data": {
      "application/vnd.jupyter.widget-view+json": {
       "model_id": "306f7f5be7604e07ac3b4a5f10d94e5e",
       "version_major": 2,
       "version_minor": 0
      },
      "text/plain": [
       "VBox(children=(HBox(children=(IntProgress(value=0, description='0.00%', max=3078), Label(value='0 / 3078'))), …"
      ]
     },
     "metadata": {},
     "output_type": "display_data"
    }
   ],
   "source": [
    "concat_data['cleaned_text']=concat_data['text'].parallel_apply(preprocess_data)\n"
   ]
  },
  {
   "cell_type": "code",
   "execution_count": 17,
   "id": "macro-pharmacy",
   "metadata": {
    "ExecuteTime": {
     "end_time": "2021-04-03T00:36:43.443951Z",
     "start_time": "2021-04-03T00:36:43.436821Z"
    }
   },
   "outputs": [
    {
     "data": {
      "text/html": [
       "<div>\n",
       "<style scoped>\n",
       "    .dataframe tbody tr th:only-of-type {\n",
       "        vertical-align: middle;\n",
       "    }\n",
       "\n",
       "    .dataframe tbody tr th {\n",
       "        vertical-align: top;\n",
       "    }\n",
       "\n",
       "    .dataframe thead th {\n",
       "        text-align: right;\n",
       "    }\n",
       "</style>\n",
       "<table border=\"1\" class=\"dataframe\">\n",
       "  <thead>\n",
       "    <tr style=\"text-align: right;\">\n",
       "      <th></th>\n",
       "      <th>deceptive</th>\n",
       "      <th>text</th>\n",
       "      <th>cleaned_text</th>\n",
       "    </tr>\n",
       "  </thead>\n",
       "  <tbody>\n",
       "    <tr>\n",
       "      <th>0</th>\n",
       "      <td>truthful</td>\n",
       "      <td>We stayed for a one night getaway with family ...</td>\n",
       "      <td>stay one night getaway famili thursday tripl a...</td>\n",
       "    </tr>\n",
       "    <tr>\n",
       "      <th>1</th>\n",
       "      <td>truthful</td>\n",
       "      <td>Triple A rate with upgrade to view room was le...</td>\n",
       "      <td>tripl rate upgrad view room less also includ b...</td>\n",
       "    </tr>\n",
       "    <tr>\n",
       "      <th>2</th>\n",
       "      <td>truthful</td>\n",
       "      <td>This comes a little late as I'm finally catchi...</td>\n",
       "      <td>come littl late final catch review past sever ...</td>\n",
       "    </tr>\n",
       "    <tr>\n",
       "      <th>3</th>\n",
       "      <td>truthful</td>\n",
       "      <td>The Omni Chicago really delivers on all fronts...</td>\n",
       "      <td>omni chicago realli deliv front spacious room ...</td>\n",
       "    </tr>\n",
       "    <tr>\n",
       "      <th>4</th>\n",
       "      <td>truthful</td>\n",
       "      <td>I asked for a high floor away from the elevato...</td>\n",
       "      <td>ask high floor away elev got room pleasant dec...</td>\n",
       "    </tr>\n",
       "    <tr>\n",
       "      <th>...</th>\n",
       "      <td>...</td>\n",
       "      <td>...</td>\n",
       "      <td>...</td>\n",
       "    </tr>\n",
       "    <tr>\n",
       "      <th>73861</th>\n",
       "      <td>truthful</td>\n",
       "      <td>Excellent food and awesome 5 star service from...</td>\n",
       "      <td>excel food awesom star servic moment walk leav...</td>\n",
       "    </tr>\n",
       "    <tr>\n",
       "      <th>73862</th>\n",
       "      <td>truthful</td>\n",
       "      <td>YUMMY. Although I haven't had ramen from many ...</td>\n",
       "      <td>yummi although ramen mani differ place probabl...</td>\n",
       "    </tr>\n",
       "    <tr>\n",
       "      <th>73863</th>\n",
       "      <td>truthful</td>\n",
       "      <td>The soup is flavorful and deeply taste behind ...</td>\n",
       "      <td>soup flavor deepli tast behind love system ser...</td>\n",
       "    </tr>\n",
       "    <tr>\n",
       "      <th>73864</th>\n",
       "      <td>truthful</td>\n",
       "      <td>It was a snowy midweek afternoon that we decid...</td>\n",
       "      <td>snowi midweek afternoon decid drop bowl ramen ...</td>\n",
       "    </tr>\n",
       "    <tr>\n",
       "      <th>73865</th>\n",
       "      <td>truthful</td>\n",
       "      <td>Whether it be rain or shine, this place is alw...</td>\n",
       "      <td>whether rain shine place alway busi prepar wai...</td>\n",
       "    </tr>\n",
       "  </tbody>\n",
       "</table>\n",
       "<p>73866 rows × 3 columns</p>\n",
       "</div>"
      ],
      "text/plain": [
       "      deceptive                                               text  \\\n",
       "0      truthful  We stayed for a one night getaway with family ...   \n",
       "1      truthful  Triple A rate with upgrade to view room was le...   \n",
       "2      truthful  This comes a little late as I'm finally catchi...   \n",
       "3      truthful  The Omni Chicago really delivers on all fronts...   \n",
       "4      truthful  I asked for a high floor away from the elevato...   \n",
       "...         ...                                                ...   \n",
       "73861  truthful  Excellent food and awesome 5 star service from...   \n",
       "73862  truthful  YUMMY. Although I haven't had ramen from many ...   \n",
       "73863  truthful  The soup is flavorful and deeply taste behind ...   \n",
       "73864  truthful  It was a snowy midweek afternoon that we decid...   \n",
       "73865  truthful  Whether it be rain or shine, this place is alw...   \n",
       "\n",
       "                                            cleaned_text  \n",
       "0      stay one night getaway famili thursday tripl a...  \n",
       "1      tripl rate upgrad view room less also includ b...  \n",
       "2      come littl late final catch review past sever ...  \n",
       "3      omni chicago realli deliv front spacious room ...  \n",
       "4      ask high floor away elev got room pleasant dec...  \n",
       "...                                                  ...  \n",
       "73861  excel food awesom star servic moment walk leav...  \n",
       "73862  yummi although ramen mani differ place probabl...  \n",
       "73863  soup flavor deepli tast behind love system ser...  \n",
       "73864  snowi midweek afternoon decid drop bowl ramen ...  \n",
       "73865  whether rain shine place alway busi prepar wai...  \n",
       "\n",
       "[73866 rows x 3 columns]"
      ]
     },
     "execution_count": 17,
     "metadata": {},
     "output_type": "execute_result"
    }
   ],
   "source": [
    "concat_data"
   ]
  },
  {
   "cell_type": "code",
   "execution_count": 18,
   "id": "supposed-housing",
   "metadata": {
    "ExecuteTime": {
     "end_time": "2021-04-03T01:05:11.860236Z",
     "start_time": "2021-04-03T01:05:11.844306Z"
    }
   },
   "outputs": [],
   "source": [
    "from sklearn.preprocessing import LabelEncoder\n",
    "from sklearn.model_selection import train_test_split\n",
    "\n",
    "x=concat_data['cleaned_text']\n",
    "y=concat_data['deceptive']\n",
    "le=LabelEncoder()\n",
    "y=le.fit_transform(y)\n",
    "\n"
   ]
  },
  {
   "cell_type": "code",
   "execution_count": 19,
   "id": "ranking-library",
   "metadata": {
    "ExecuteTime": {
     "end_time": "2021-04-03T01:05:12.770764Z",
     "start_time": "2021-04-03T01:05:12.760223Z"
    }
   },
   "outputs": [],
   "source": [
    "X_train, X_test, Y_train, Y_test = train_test_split(x,y,test_size=.10,random_state =23)"
   ]
  },
  {
   "cell_type": "code",
   "execution_count": 20,
   "id": "parliamentary-perspective",
   "metadata": {
    "ExecuteTime": {
     "end_time": "2021-04-03T01:05:18.165935Z",
     "start_time": "2021-04-03T01:05:13.222860Z"
    }
   },
   "outputs": [],
   "source": [
    "from sklearn.feature_extraction.text import CountVectorizer\n",
    "cv=CountVectorizer(stop_words='english', ngram_range=(1,2),max_features=60000) #60000 reached 79.6\n",
    "X_train=cv.fit_transform(X_train)\n",
    "X_test=cv.transform(X_test)"
   ]
  },
  {
   "cell_type": "code",
   "execution_count": 21,
   "id": "based-tribune",
   "metadata": {
    "ExecuteTime": {
     "end_time": "2021-04-03T01:05:20.027590Z",
     "start_time": "2021-04-03T01:05:20.021892Z"
    }
   },
   "outputs": [
    {
     "data": {
      "text/plain": [
       "(66479,)"
      ]
     },
     "execution_count": 21,
     "metadata": {},
     "output_type": "execute_result"
    },
    {
     "data": {
      "text/plain": [
       "(66479, 60000)"
      ]
     },
     "execution_count": 21,
     "metadata": {},
     "output_type": "execute_result"
    },
    {
     "data": {
      "text/plain": [
       "(7387, 60000)"
      ]
     },
     "execution_count": 21,
     "metadata": {},
     "output_type": "execute_result"
    }
   ],
   "source": [
    "Y_train.shape\n",
    "X_train.shape\n",
    "X_test.shape"
   ]
  },
  {
   "cell_type": "code",
   "execution_count": 22,
   "id": "impressive-sender",
   "metadata": {
    "ExecuteTime": {
     "end_time": "2021-04-03T01:05:21.738201Z",
     "start_time": "2021-04-03T01:05:21.525283Z"
    }
   },
   "outputs": [
    {
     "data": {
      "text/plain": [
       "TfidfTransformer()"
      ]
     },
     "execution_count": 22,
     "metadata": {},
     "output_type": "execute_result"
    },
    {
     "data": {
      "text/plain": [
       "<66479x60000 sparse matrix of type '<class 'numpy.float64'>'\n",
       "\twith 3759789 stored elements in Compressed Sparse Row format>"
      ]
     },
     "execution_count": 22,
     "metadata": {},
     "output_type": "execute_result"
    }
   ],
   "source": [
    "from sklearn.feature_extraction.text import TfidfTransformer\n",
    "tfidf_transformer = TfidfTransformer()\n",
    "tfidf_transformer.fit(X_train)\n",
    "tfidf_transformer.transform(X_train)"
   ]
  },
  {
   "cell_type": "code",
   "execution_count": 24,
   "id": "fatal-swimming",
   "metadata": {
    "ExecuteTime": {
     "end_time": "2021-04-03T00:45:22.842169Z",
     "start_time": "2021-04-03T00:45:22.839593Z"
    }
   },
   "outputs": [],
   "source": [
    "from xgboost import XGBClassifier\n",
    "#from lightgbm import LGBMClassifier\n",
    "from sklearn.ensemble import RandomForestClassifier\n",
    "from sklearn.neighbors import KNeighborsClassifier\n",
    "from sklearn.ensemble import AdaBoostClassifier\n",
    "from sklearn.tree import DecisionTreeClassifier"
   ]
  },
  {
   "cell_type": "markdown",
   "id": "intensive-nancy",
   "metadata": {},
   "source": [
    "**Comment:** the hyperparameters have been used in the XGBClassifier below are optimized by using RandomizedSearchCV "
   ]
  },
  {
   "cell_type": "code",
   "execution_count": 25,
   "id": "healthy-assist",
   "metadata": {
    "ExecuteTime": {
     "end_time": "2021-04-03T01:05:44.135551Z",
     "start_time": "2021-04-03T01:05:23.108908Z"
    }
   },
   "outputs": [
    {
     "name": "stderr",
     "output_type": "stream",
     "text": [
      "/home/bryanle/miniconda3/envs/rapids-0.18/lib/python3.8/site-packages/xgboost/sklearn.py:888: UserWarning: The use of label encoder in XGBClassifier is deprecated and will be removed in a future release. To remove this warning, do the following: 1) Pass option use_label_encoder=False when constructing XGBClassifier object; and 2) Encode your labels (y) as integers starting with 0, i.e. 0, 1, 2, ..., [num_class - 1].\n",
      "  warnings.warn(label_encoder_deprecation_msg, UserWarning)\n"
     ]
    },
    {
     "name": "stdout",
     "output_type": "stream",
     "text": [
      "[08:58:57] WARNING: /opt/conda/envs/rapids/conda-bld/xgboost_1614190081567/work/src/learner.cc:1061: Starting in XGBoost 1.3.0, the default evaluation metric used with the objective 'binary:logistic' was changed from 'error' to 'logloss'. Explicitly set eval_metric if you'd like to restore the old behavior.\n"
     ]
    },
    {
     "data": {
      "text/plain": [
       "XGBClassifier(base_score=0.5, booster='gbtree', colsample_bylevel=1,\n",
       "              colsample_bynode=1, colsample_bytree=0.7, gamma=0, gpu_id=-1,\n",
       "              importance_type='gain', interaction_constraints='',\n",
       "              learning_rate=0.300000012, max_delta_step=0, max_depth=20,\n",
       "              min_child_weight=1, missing=nan, monotone_constraints='()',\n",
       "              n_estimators=400, n_jobs=24, num_parallel_tree=1, random_state=24,\n",
       "              reg_alpha=1.1, reg_lambda=1.2, scale_pos_weight=1, subsample=1,\n",
       "              tree_method='exact', validate_parameters=1, verbosity=None)"
      ]
     },
     "execution_count": 25,
     "metadata": {},
     "output_type": "execute_result"
    },
    {
     "name": "stdout",
     "output_type": "stream",
     "text": [
      "[[2998  724]\n",
      " [ 800 2865]]\n",
      "Accuracy: 0.7936916204142412\n",
      "Macro Precision: 0.7938176609208025\n",
      "Macro Recall: 0.7935999436996788\n",
      "Macro F1 score:0.793624720623691\n"
     ]
    }
   ],
   "source": [
    "xgb_clf = XGBClassifier(random_state=24,reg_lambda = 1.2, reg_alpha = 1.1, n_estimators = 400,max_depth = 20, colsample_bytree = 0.7)\n",
    "xgb_clf.fit(X_train, Y_train)\n",
    "# Do the prediction\n",
    "y_predict =xgb_clf.predict(X_test)\n",
    "print(confusion_matrix(Y_test,y_predict))\n",
    "recall=recall_score(Y_test,y_predict,average='macro')\n",
    "precision=precision_score(Y_test,y_predict,average='macro')\n",
    "f1score=f1_score(Y_test,y_predict,average='macro')\n",
    "accuracy=accuracy_score(Y_test,y_predict)\n",
    "#atthews = matthews_corrcoef(y_test,y_predict) \n",
    "print('Accuracy: '+ str(accuracy))\n",
    "print('Macro Precision: '+ str(precision))\n",
    "print('Macro Recall: '+ str(recall))\n",
    "print('Macro F1 score:'+ str(f1score))\n",
    "#print('MCC:'+ str(matthews))"
   ]
  },
  {
   "cell_type": "markdown",
   "id": "immune-brunswick",
   "metadata": {},
   "source": [
    "# Extra code for References"
   ]
  },
  {
   "cell_type": "code",
   "execution_count": 87,
   "id": "super-innocent",
   "metadata": {
    "ExecuteTime": {
     "end_time": "2021-04-03T00:33:04.750791Z",
     "start_time": "2021-04-03T00:33:04.743574Z"
    }
   },
   "outputs": [],
   "source": [
    "from sklearn.metrics import precision_score, recall_score, f1_score, accuracy_score, confusion_matrix, matthews_corrcoef\n",
    "\n",
    "def model_testing(x_test, y_test, y_train, x_train):\n",
    "    models = [\n",
    "        #LogisticRegression(max_iter = 10000),\n",
    "        RandomForestClassifier(random_state=24),\n",
    "        XGBClassifier(random_state=24,reg_lambda = 1.2, reg_alpha = 1.1, n_estimators = 400,max_depth = 20, colsample_bytree = 0.7),\n",
    "        AdaBoostClassifier( DecisionTreeClassifier(max_depth=1), n_estimators=200, algorithm=\"SAMME.R\", learning_rate=0.5),\n",
    "        #KNeighborsClassifier(),\n",
    "        #LGBMClassifier(random_state=24)\n",
    "        #SVC(),\n",
    "        #MultinomialNB(),\n",
    "        #CatBoostClassifier(iterations=50, task_type=\"GPU\",boosting_type = Plain,learning_rate=0.05, l2_leaf_reg=1, depth=5, loss_function= 'Logloss', eval_metric='AUC',random_seed=42,verbose=False)\n",
    "        ]\n",
    "\n",
    "    for clf in models:\n",
    "        model_name = clf.__class__.__name__\n",
    "        clf.fit(x_train, y_train)\n",
    "        print(model_name)\n",
    "        # Do the prediction\n",
    "        y_predict =clf.predict(X_test)\n",
    "        print(confusion_matrix(y_test,y_predict))\n",
    "        recall=recall_score(y_test,y_predict,average='macro')\n",
    "        precision=precision_score(y_test,y_predict,average='macro')\n",
    "        f1score=f1_score(y_test,y_predict,average='macro')\n",
    "        accuracy=accuracy_score(y_test,y_predict)\n",
    "        matthews = matthews_corrcoef(y_test,y_predict) \n",
    "        print('Accuracy: '+ str(accuracy))\n",
    "        print('Macro Precision: '+ str(precision))\n",
    "        print('Macro Recall: '+ str(recall))\n",
    "        print('Macro F1 score:'+ str(f1score))\n",
    "        print('MCC:'+ str(matthews))"
   ]
  },
  {
   "cell_type": "code",
   "execution_count": null,
   "id": "affecting-gregory",
   "metadata": {
    "ExecuteTime": {
     "start_time": "2021-04-03T00:33:06.618Z"
    }
   },
   "outputs": [
    {
     "name": "stdout",
     "output_type": "stream",
     "text": [
      "RandomForestClassifier\n",
      "[[3456 2122]\n",
      " [1720 3782]]\n",
      "Accuracy: 0.6532490974729241\n",
      "Macro Precision: 0.6541398595979777\n",
      "Macro Recall: 0.6534816571150697\n",
      "Macro F1 score:0.6529486632509846\n",
      "MCC:0.30762081255065826\n",
      "XGBClassifier\n",
      "[[3562 2016]\n",
      " [1926 3576]]\n",
      "Accuracy: 0.6442238267148015\n",
      "Macro Precision: 0.6442687283374418\n",
      "Macro Recall: 0.6442628053112536\n",
      "Macro F1 score:0.6442232587072579\n",
      "MCC:0.28853153358790073\n"
     ]
    }
   ],
   "source": [
    "model_testing(X_test, Y_test, Y_train, X_train)"
   ]
  },
  {
   "cell_type": "code",
   "execution_count": 32,
   "id": "bizarre-resort",
   "metadata": {
    "ExecuteTime": {
     "end_time": "2021-04-01T03:20:49.773713Z",
     "start_time": "2021-04-01T03:18:35.872927Z"
    }
   },
   "outputs": [
    {
     "data": {
      "text/plain": [
       "VotingClassifier(estimators=[('xgb',\n",
       "                              XGBClassifier(base_score=None, booster=None,\n",
       "                                            colsample_bylevel=None,\n",
       "                                            colsample_bynode=None,\n",
       "                                            colsample_bytree=None, gamma=None,\n",
       "                                            gpu_id=None, importance_type='gain',\n",
       "                                            interaction_constraints=None,\n",
       "                                            learning_rate=None,\n",
       "                                            max_delta_step=None, max_depth=None,\n",
       "                                            min_child_weight=None, missing=nan,\n",
       "                                            monotone_constraints=None,\n",
       "                                            n_estimators=100, n_jobs=None,\n",
       "                                            num_parallel_tree=None,\n",
       "                                            random_state=24, reg_alpha=None,\n",
       "                                            reg_lambda=None,\n",
       "                                            scale_pos_weight=None,\n",
       "                                            subsample=None, tree_method=None,\n",
       "                                            validate_parameters=None,\n",
       "                                            verbosity=None)),\n",
       "                             ('ada',\n",
       "                              AdaBoostClassifier(base_estimator=DecisionTreeClassifier(max_depth=1),\n",
       "                                                 learning_rate=0.5,\n",
       "                                                 n_estimators=200))])"
      ]
     },
     "execution_count": 32,
     "metadata": {},
     "output_type": "execute_result"
    }
   ],
   "source": [
    "from sklearn.ensemble import VotingClassifier\n",
    "\n",
    "\n",
    "ada_clf = AdaBoostClassifier(\n",
    "DecisionTreeClassifier(max_depth=1), n_estimators=200,\n",
    "algorithm=\"SAMME.R\", learning_rate=0.5)\n",
    "xgb_clf = XGBClassifier(random_state=24)\n",
    "rnd_clf = RandomForestClassifier(random_state=24)\n",
    "voting_clf = VotingClassifier(\n",
    "estimators=[('xgb', xgb_clf), ('ada', ada_clf)],voting='hard')\n",
    "voting_clf.fit(X_train, Y_train)\n"
   ]
  },
  {
   "cell_type": "markdown",
   "id": "isolated-marijuana",
   "metadata": {
    "ExecuteTime": {
     "end_time": "2021-04-01T06:25:24.913588Z",
     "start_time": "2021-04-01T06:14:52.818613Z"
    }
   },
   "source": [
    "from sklearn.model_selection import GridSearchCV\n",
    "from sklearn.metrics import r2_score\n",
    "\n",
    "def algorithm_pipeline(X_train_data, X_test_data, y_train_data, y_test_data,\n",
    "                       model, param_grid, cv=10, scoring_fit='neg_mean_squared_error',\n",
    "                       scoring_test=r2_score, do_probabilities = False):\n",
    "    gs = GridSearchCV(\n",
    "        estimator=model,\n",
    "        param_grid=param_grid,\n",
    "        cv=cv,\n",
    "        n_jobs=-1,\n",
    "        scoring=scoring_fit,\n",
    "        verbose=2\n",
    "    )\n",
    "    fitted_model = gs.fit(X_train_data, y_train_data)\n",
    "\n",
    "# Defining our estimator, the algorithm to optimize\n",
    "models_to_train = [XGBClassifier(random_state=24)]\n",
    "\n",
    "# Defining the hyperparameters to optimize\n",
    "grid_parameters = [\n",
    "    { # XGBoost\n",
    "        'n_estimators': [400, 700, 1000],\n",
    "        'colsample_bytree': [0.7, 0.8],\n",
    "        'max_depth': [15,20,25],\n",
    "        'reg_alpha': [1.1, 1.2, 1.3],\n",
    "        'reg_lambda': [1.1, 1.2, 1.3]}]\n",
    "        \n",
    "models_preds_scores = []\n",
    "\n",
    "for i, model in enumerate(models_to_train):\n",
    "    params = grid_parameters[i]\n",
    "\n",
    "    result = algorithm_pipeline(X_train, X_test, Y_train, Y_test,\n",
    "                                 model, params, cv=5)\n",
    "    models_preds_scores.append(result)"
   ]
  },
  {
   "cell_type": "code",
   "execution_count": 44,
   "id": "substantial-cincinnati",
   "metadata": {
    "ExecuteTime": {
     "end_time": "2021-04-01T08:05:49.119037Z",
     "start_time": "2021-04-01T06:41:43.064619Z"
    }
   },
   "outputs": [
    {
     "data": {
      "text/plain": [
       "RandomizedSearchCV(cv=3,\n",
       "                   estimator=XGBClassifier(base_score=None, booster=None,\n",
       "                                           colsample_bylevel=None,\n",
       "                                           colsample_bynode=None,\n",
       "                                           colsample_bytree=None, gamma=None,\n",
       "                                           gpu_id=None, importance_type='gain',\n",
       "                                           interaction_constraints=None,\n",
       "                                           learning_rate=None,\n",
       "                                           max_delta_step=None, max_depth=None,\n",
       "                                           min_child_weight=None, missing=nan,\n",
       "                                           monotone_constraints=None,\n",
       "                                           n_estimators=100, n_jobs=None,\n",
       "                                           num_parallel_tree=None,\n",
       "                                           random_state=24, reg_alpha=None,\n",
       "                                           reg_lambda=None,\n",
       "                                           scale_pos_weight=None,\n",
       "                                           subsample=None, tree_method=None,\n",
       "                                           validate_parameters=None,\n",
       "                                           verbosity=None),\n",
       "                   param_distributions=[{'colsample_bytree': [0.7, 0.8],\n",
       "                                         'max_depth': [15, 20, 25],\n",
       "                                         'n_estimators': [400, 700, 1000],\n",
       "                                         'reg_alpha': [1.1, 1.2, 1.3],\n",
       "                                         'reg_lambda': [1.1, 1.2, 1.3]}])"
      ]
     },
     "execution_count": 44,
     "metadata": {},
     "output_type": "execute_result"
    }
   ],
   "source": [
    "from sklearn.model_selection import RandomizedSearchCV\n",
    "from tensorflow import keras\n",
    "\n",
    "xgb_clf = XGBClassifier(random_state=24)\n",
    "\n",
    "param_distribs = [\n",
    "    { # XGBoost\n",
    "        'n_estimators': [400, 700, 1000],\n",
    "        'colsample_bytree': [0.7, 0.8],\n",
    "        'max_depth': [15,20,25],\n",
    "        'reg_alpha': [1.1, 1.2, 1.3],\n",
    "        'reg_lambda': [1.1, 1.2, 1.3]}]\n",
    "\n",
    "rnd_search_cv = RandomizedSearchCV(xgb_clf , param_distribs, n_iter=10, cv=3)\n",
    "\n",
    "rnd_search_cv.fit(X_train, Y_train)"
   ]
  },
  {
   "cell_type": "code",
   "execution_count": 46,
   "id": "corporate-vampire",
   "metadata": {
    "ExecuteTime": {
     "end_time": "2021-04-01T08:41:42.677639Z",
     "start_time": "2021-04-01T08:41:42.674244Z"
    }
   },
   "outputs": [
    {
     "data": {
      "text/plain": [
       "{'reg_lambda': 1.2,\n",
       " 'reg_alpha': 1.1,\n",
       " 'n_estimators': 400,\n",
       " 'max_depth': 20,\n",
       " 'colsample_bytree': 0.7}"
      ]
     },
     "execution_count": 46,
     "metadata": {},
     "output_type": "execute_result"
    }
   ],
   "source": [
    "rnd_search_cv.best_params_"
   ]
  },
  {
   "cell_type": "markdown",
   "id": "ranging-seafood",
   "metadata": {},
   "source": [
    "{'reg_lambda': 1.2,\n",
    " 'reg_alpha': 1.1,\n",
    " 'n_estimators': 400,\n",
    " 'max_depth': 20,\n",
    " 'colsample_bytree': 0.7}"
   ]
  },
  {
   "cell_type": "code",
   "execution_count": null,
   "id": "tracked-experience",
   "metadata": {
    "ExecuteTime": {
     "start_time": "2021-03-27T03:38:41.551Z"
    }
   },
   "outputs": [],
   "source": [
    "model = LGBMClassifier(boosting_type='gbdt', num_leaves=31, max_depth=- 1, learning_rate=0.1, n_estimators=300, device = \"gpu\")\n",
    "\n",
    "LGBMC = model.fit(X_train, Y_train)\n",
    "print(model_name)\n",
    "# Do the prediction\n",
    "y_predict =LGBMC.predict(X_test)\n",
    "print(confusion_matrix(Y_test,y_predict))\n",
    "recall=recall_score(y_test,y_predict,average='macro')\n",
    "precision=precision_score(y_test,y_predict,average='macro')\n",
    "f1score=f1_score(y_test,y_predict,average='macro')\n",
    "accuracy=accuracy_score(y_test,y_predict)\n",
    "matthews = matthews_corrcoef(y_test,y_predict) \n",
    "print('Accuracy: '+ str(accuracy))\n",
    "print('Macro Precision: '+ str(precision))\n",
    "print('Macro Recall: '+ str(recall))\n",
    "print('Macro F1 score:'+ str(f1score))\n",
    "print('MCC:'+ str(matthews))"
   ]
  },
  {
   "cell_type": "code",
   "execution_count": 41,
   "id": "vietnamese-canadian",
   "metadata": {
    "ExecuteTime": {
     "end_time": "2021-03-27T01:18:53.164230Z",
     "start_time": "2021-03-27T01:18:53.160641Z"
    }
   },
   "outputs": [
    {
     "data": {
      "text/plain": [
       "<59092x1027360 sparse matrix of type '<class 'numpy.int64'>'\n",
       "\twith 9101268 stored elements in Compressed Sparse Row format>"
      ]
     },
     "execution_count": 41,
     "metadata": {},
     "output_type": "execute_result"
    }
   ],
   "source": [
    "X_train"
   ]
  },
  {
   "cell_type": "code",
   "execution_count": 36,
   "id": "nearby-prevention",
   "metadata": {
    "ExecuteTime": {
     "end_time": "2021-03-27T01:09:08.540002Z",
     "start_time": "2021-03-27T01:09:08.523786Z"
    }
   },
   "outputs": [
    {
     "ename": "AttributeError",
     "evalue": "select_dtypes not found",
     "output_type": "error",
     "traceback": [
      "\u001b[0;31m---------------------------------------------------------------------------\u001b[0m",
      "\u001b[0;31mAttributeError\u001b[0m                            Traceback (most recent call last)",
      "\u001b[0;32m<ipython-input-36-74296239fc09>\u001b[0m in \u001b[0;36m<module>\u001b[0;34m\u001b[0m\n\u001b[1;32m      1\u001b[0m \u001b[0;31m# fit and train the model\u001b[0m\u001b[0;34m\u001b[0m\u001b[0;34m\u001b[0m\u001b[0;34m\u001b[0m\u001b[0m\n\u001b[1;32m      2\u001b[0m \u001b[0;31m#start_time_1=time.time()\u001b[0m\u001b[0;34m\u001b[0m\u001b[0;34m\u001b[0m\u001b[0;34m\u001b[0m\u001b[0m\n\u001b[0;32m----> 3\u001b[0;31m \u001b[0mmodels_c\u001b[0m\u001b[0;34m,\u001b[0m\u001b[0mpredictions_c\u001b[0m \u001b[0;34m=\u001b[0m \u001b[0mclassi\u001b[0m\u001b[0;34m.\u001b[0m\u001b[0mfit\u001b[0m\u001b[0;34m(\u001b[0m\u001b[0mX_train\u001b[0m\u001b[0;34m,\u001b[0m \u001b[0mX_test\u001b[0m\u001b[0;34m,\u001b[0m \u001b[0mY_train\u001b[0m\u001b[0;34m,\u001b[0m \u001b[0mY_test\u001b[0m\u001b[0;34m)\u001b[0m\u001b[0;34m\u001b[0m\u001b[0;34m\u001b[0m\u001b[0m\n\u001b[0m\u001b[1;32m      4\u001b[0m \u001b[0;31m#end_time_1=time.time()\u001b[0m\u001b[0;34m\u001b[0m\u001b[0;34m\u001b[0m\u001b[0;34m\u001b[0m\u001b[0m\n",
      "\u001b[0;32m~/miniconda3/envs/GPU/lib/python3.8/site-packages/lazypredict/Supervised.py\u001b[0m in \u001b[0;36mfit\u001b[0;34m(self, X_train, X_test, y_train, y_test)\u001b[0m\n\u001b[1;32m    269\u001b[0m             \u001b[0mX_test\u001b[0m \u001b[0;34m=\u001b[0m \u001b[0mpd\u001b[0m\u001b[0;34m.\u001b[0m\u001b[0mDataFrame\u001b[0m\u001b[0;34m(\u001b[0m\u001b[0mX_test\u001b[0m\u001b[0;34m)\u001b[0m\u001b[0;34m\u001b[0m\u001b[0;34m\u001b[0m\u001b[0m\n\u001b[1;32m    270\u001b[0m \u001b[0;34m\u001b[0m\u001b[0m\n\u001b[0;32m--> 271\u001b[0;31m         \u001b[0mnumeric_features\u001b[0m \u001b[0;34m=\u001b[0m \u001b[0mX_train\u001b[0m\u001b[0;34m.\u001b[0m\u001b[0mselect_dtypes\u001b[0m\u001b[0;34m(\u001b[0m\u001b[0minclude\u001b[0m\u001b[0;34m=\u001b[0m\u001b[0;34m[\u001b[0m\u001b[0mnp\u001b[0m\u001b[0;34m.\u001b[0m\u001b[0mnumber\u001b[0m\u001b[0;34m]\u001b[0m\u001b[0;34m)\u001b[0m\u001b[0;34m.\u001b[0m\u001b[0mcolumns\u001b[0m\u001b[0;34m\u001b[0m\u001b[0;34m\u001b[0m\u001b[0m\n\u001b[0m\u001b[1;32m    272\u001b[0m         \u001b[0mcategorical_features\u001b[0m \u001b[0;34m=\u001b[0m \u001b[0mX_train\u001b[0m\u001b[0;34m.\u001b[0m\u001b[0mselect_dtypes\u001b[0m\u001b[0;34m(\u001b[0m\u001b[0minclude\u001b[0m\u001b[0;34m=\u001b[0m\u001b[0;34m[\u001b[0m\u001b[0;34m\"object\"\u001b[0m\u001b[0;34m]\u001b[0m\u001b[0;34m)\u001b[0m\u001b[0;34m.\u001b[0m\u001b[0mcolumns\u001b[0m\u001b[0;34m\u001b[0m\u001b[0;34m\u001b[0m\u001b[0m\n\u001b[1;32m    273\u001b[0m \u001b[0;34m\u001b[0m\u001b[0m\n",
      "\u001b[0;32m~/miniconda3/envs/GPU/lib/python3.8/site-packages/scipy/sparse/base.py\u001b[0m in \u001b[0;36m__getattr__\u001b[0;34m(self, attr)\u001b[0m\n\u001b[1;32m    685\u001b[0m             \u001b[0;32mreturn\u001b[0m \u001b[0mself\u001b[0m\u001b[0;34m.\u001b[0m\u001b[0mgetnnz\u001b[0m\u001b[0;34m(\u001b[0m\u001b[0;34m)\u001b[0m\u001b[0;34m\u001b[0m\u001b[0;34m\u001b[0m\u001b[0m\n\u001b[1;32m    686\u001b[0m         \u001b[0;32melse\u001b[0m\u001b[0;34m:\u001b[0m\u001b[0;34m\u001b[0m\u001b[0;34m\u001b[0m\u001b[0m\n\u001b[0;32m--> 687\u001b[0;31m             \u001b[0;32mraise\u001b[0m \u001b[0mAttributeError\u001b[0m\u001b[0;34m(\u001b[0m\u001b[0mattr\u001b[0m \u001b[0;34m+\u001b[0m \u001b[0;34m\" not found\"\u001b[0m\u001b[0;34m)\u001b[0m\u001b[0;34m\u001b[0m\u001b[0;34m\u001b[0m\u001b[0m\n\u001b[0m\u001b[1;32m    688\u001b[0m \u001b[0;34m\u001b[0m\u001b[0m\n\u001b[1;32m    689\u001b[0m     \u001b[0;32mdef\u001b[0m \u001b[0mtranspose\u001b[0m\u001b[0;34m(\u001b[0m\u001b[0mself\u001b[0m\u001b[0;34m,\u001b[0m \u001b[0maxes\u001b[0m\u001b[0;34m=\u001b[0m\u001b[0;32mNone\u001b[0m\u001b[0;34m,\u001b[0m \u001b[0mcopy\u001b[0m\u001b[0;34m=\u001b[0m\u001b[0;32mFalse\u001b[0m\u001b[0;34m)\u001b[0m\u001b[0;34m:\u001b[0m\u001b[0;34m\u001b[0m\u001b[0;34m\u001b[0m\u001b[0m\n",
      "\u001b[0;31mAttributeError\u001b[0m: select_dtypes not found"
     ]
    }
   ],
   "source": [
    "# fit and train the model \n",
    "#start_time_1=time.time()\n",
    "models_c,predictions_c = classi.fit(X_train, X_test, Y_train, Y_test)\n",
    "#end_time_1=time.time()"
   ]
  },
  {
   "cell_type": "code",
   "execution_count": 2,
   "id": "infrared-glory",
   "metadata": {
    "ExecuteTime": {
     "end_time": "2021-03-27T00:59:32.419808Z",
     "start_time": "2021-03-27T00:59:31.413264Z"
    }
   },
   "outputs": [
    {
     "name": "stderr",
     "output_type": "stream",
     "text": [
      "100%|██████████| 29/29 [00:00<00:00, 29.66it/s]\n"
     ]
    }
   ],
   "source": [
    "import lazypredict\n",
    "from lazypredict.Supervised import LazyClassifier\n",
    "from sklearn.datasets import load_breast_cancer\n",
    "from sklearn.model_selection import train_test_split\n",
    "\n",
    "data = load_breast_cancer()\n",
    "X = data.data\n",
    "y= data.target\n",
    "\n",
    "X_train, X_test, y_train, y_test = train_test_split(X, y,test_size=.5,random_state =123)\n",
    "\n",
    "clf = LazyClassifier(verbose=0,ignore_warnings=True, custom_metric=None)\n",
    "models,predictions = clf.fit(X_train, X_test, y_train, y_test)"
   ]
  },
  {
   "cell_type": "code",
   "execution_count": 5,
   "id": "intense-transparency",
   "metadata": {
    "ExecuteTime": {
     "end_time": "2021-03-27T02:13:19.871516Z",
     "start_time": "2021-03-27T02:13:19.866737Z"
    }
   },
   "outputs": [
    {
     "data": {
      "text/plain": [
       "numpy.ndarray"
      ]
     },
     "execution_count": 5,
     "metadata": {},
     "output_type": "execute_result"
    }
   ],
   "source": [
    "type(X_train)"
   ]
  },
  {
   "cell_type": "code",
   "execution_count": 3,
   "id": "passive-friday",
   "metadata": {
    "ExecuteTime": {
     "end_time": "2021-03-27T02:12:53.699081Z",
     "start_time": "2021-03-27T02:12:46.237618Z"
    }
   },
   "outputs": [
    {
     "name": "stderr",
     "output_type": "stream",
     "text": [
      "/home/bryanle/miniconda3/envs/GPU/lib/python3.8/site-packages/sklearn/utils/deprecation.py:143: FutureWarning: The sklearn.utils.testing module is  deprecated in version 0.22 and will be removed in version 0.24. The corresponding classes / functions should instead be imported from sklearn.utils. Anything that cannot be imported from sklearn.utils is now part of the private API.\n",
      "  warnings.warn(message, FutureWarning)\n",
      "100%|██████████| 42/42 [00:02<00:00, 16.58it/s]"
     ]
    },
    {
     "name": "stdout",
     "output_type": "stream",
     "text": [
      "                               Adjusted R-Squared  R-Squared  RMSE  Time Taken\n",
      "Model                                                                         \n",
      "SVR                                          0.83       0.88  2.62        0.02\n",
      "BaggingRegressor                             0.83       0.88  2.63        0.04\n",
      "NuSVR                                        0.82       0.86  2.76        0.02\n",
      "RandomForestRegressor                        0.81       0.86  2.78        0.26\n",
      "XGBRegressor                                 0.81       0.86  2.79        0.14\n",
      "GradientBoostingRegressor                    0.81       0.86  2.84        0.13\n",
      "ExtraTreesRegressor                          0.79       0.84  2.98        0.15\n",
      "AdaBoostRegressor                            0.78       0.83  3.04        0.08\n",
      "HistGradientBoostingRegressor                0.77       0.83  3.06        0.29\n",
      "PoissonRegressor                             0.77       0.83  3.11        0.02\n",
      "LGBMRegressor                                0.77       0.83  3.11        0.09\n",
      "KNeighborsRegressor                          0.77       0.83  3.12        0.01\n",
      "DecisionTreeRegressor                        0.65       0.74  3.79        0.01\n",
      "MLPRegressor                                 0.65       0.74  3.80        0.47\n",
      "HuberRegressor                               0.64       0.74  3.84        0.03\n",
      "GammaRegressor                               0.64       0.73  3.88        0.01\n",
      "LinearSVR                                    0.62       0.72  3.96        0.01\n",
      "RidgeCV                                      0.62       0.72  3.97        0.01\n",
      "BayesianRidge                                0.62       0.72  3.97        0.13\n",
      "Ridge                                        0.62       0.72  3.97        0.01\n",
      "TransformedTargetRegressor                   0.62       0.72  3.97        0.01\n",
      "LinearRegression                             0.62       0.72  3.97        0.02\n",
      "ElasticNetCV                                 0.62       0.72  3.98        0.07\n",
      "LassoCV                                      0.62       0.72  3.98        0.06\n",
      "LassoLarsIC                                  0.62       0.72  3.98        0.01\n",
      "LassoLarsCV                                  0.62       0.72  3.98        0.03\n",
      "Lars                                         0.61       0.72  3.99        0.07\n",
      "LarsCV                                       0.61       0.71  4.02        0.03\n",
      "SGDRegressor                                 0.60       0.70  4.07        0.01\n",
      "TweedieRegressor                             0.59       0.70  4.12        0.01\n",
      "GeneralizedLinearRegressor                   0.59       0.70  4.12        0.01\n",
      "ElasticNet                                   0.58       0.69  4.16        0.03\n",
      "Lasso                                        0.54       0.66  4.35        0.01\n",
      "RANSACRegressor                              0.53       0.65  4.41        0.05\n",
      "OrthogonalMatchingPursuitCV                  0.45       0.59  4.78        0.02\n",
      "PassiveAggressiveRegressor                   0.37       0.54  5.09        0.01\n",
      "GaussianProcessRegressor                     0.23       0.43  5.65        0.07\n",
      "OrthogonalMatchingPursuit                    0.16       0.38  5.89        0.01\n",
      "ExtraTreeRegressor                           0.08       0.32  6.17        0.01\n",
      "DummyRegressor                              -0.38      -0.02  7.56        0.01\n",
      "LassoLars                                   -0.38      -0.02  7.56        0.01\n",
      "KernelRidge                                -11.50      -8.25 22.74        0.05\n"
     ]
    },
    {
     "name": "stderr",
     "output_type": "stream",
     "text": [
      "\n"
     ]
    }
   ],
   "source": [
    "from lazypredict.Supervised import LazyRegressor\n",
    "from sklearn import datasets\n",
    "from sklearn.utils import shuffle\n",
    "import numpy as np\n",
    "\n",
    "boston = datasets.load_boston()\n",
    "X, y = shuffle(boston.data, boston.target, random_state=13)\n",
    "X = X.astype(np.float32)\n",
    "\n",
    "offset = int(X.shape[0] * 0.9)\n",
    "\n",
    "X_train, y_train = X[:offset], y[:offset]\n",
    "X_test, y_test = X[offset:], y[offset:]\n",
    "\n",
    "reg = LazyRegressor(verbose=0, ignore_warnings=False, custom_metric=None)\n",
    "models, predictions = reg.fit(X_train, X_test, y_train, y_test)\n",
    "\n",
    "print(models)"
   ]
  },
  {
   "cell_type": "code",
   "execution_count": 3,
   "id": "random-margin",
   "metadata": {
    "ExecuteTime": {
     "end_time": "2021-03-27T01:00:19.964403Z",
     "start_time": "2021-03-27T01:00:19.945455Z"
    }
   },
   "outputs": [
    {
     "data": {
      "text/html": [
       "<div>\n",
       "<style scoped>\n",
       "    .dataframe tbody tr th:only-of-type {\n",
       "        vertical-align: middle;\n",
       "    }\n",
       "\n",
       "    .dataframe tbody tr th {\n",
       "        vertical-align: top;\n",
       "    }\n",
       "\n",
       "    .dataframe thead th {\n",
       "        text-align: right;\n",
       "    }\n",
       "</style>\n",
       "<table border=\"1\" class=\"dataframe\">\n",
       "  <thead>\n",
       "    <tr style=\"text-align: right;\">\n",
       "      <th></th>\n",
       "      <th>Accuracy</th>\n",
       "      <th>Balanced Accuracy</th>\n",
       "      <th>ROC AUC</th>\n",
       "      <th>F1 Score</th>\n",
       "      <th>Time Taken</th>\n",
       "    </tr>\n",
       "    <tr>\n",
       "      <th>Model</th>\n",
       "      <th></th>\n",
       "      <th></th>\n",
       "      <th></th>\n",
       "      <th></th>\n",
       "      <th></th>\n",
       "    </tr>\n",
       "  </thead>\n",
       "  <tbody>\n",
       "    <tr>\n",
       "      <th>LinearSVC</th>\n",
       "      <td>0.99</td>\n",
       "      <td>0.99</td>\n",
       "      <td>0.99</td>\n",
       "      <td>0.99</td>\n",
       "      <td>0.03</td>\n",
       "    </tr>\n",
       "    <tr>\n",
       "      <th>Perceptron</th>\n",
       "      <td>0.99</td>\n",
       "      <td>0.98</td>\n",
       "      <td>0.98</td>\n",
       "      <td>0.99</td>\n",
       "      <td>0.01</td>\n",
       "    </tr>\n",
       "    <tr>\n",
       "      <th>LogisticRegression</th>\n",
       "      <td>0.99</td>\n",
       "      <td>0.98</td>\n",
       "      <td>0.98</td>\n",
       "      <td>0.99</td>\n",
       "      <td>0.03</td>\n",
       "    </tr>\n",
       "    <tr>\n",
       "      <th>SVC</th>\n",
       "      <td>0.98</td>\n",
       "      <td>0.98</td>\n",
       "      <td>0.98</td>\n",
       "      <td>0.98</td>\n",
       "      <td>0.02</td>\n",
       "    </tr>\n",
       "    <tr>\n",
       "      <th>XGBClassifier</th>\n",
       "      <td>0.98</td>\n",
       "      <td>0.98</td>\n",
       "      <td>0.98</td>\n",
       "      <td>0.98</td>\n",
       "      <td>0.07</td>\n",
       "    </tr>\n",
       "    <tr>\n",
       "      <th>LabelPropagation</th>\n",
       "      <td>0.98</td>\n",
       "      <td>0.97</td>\n",
       "      <td>0.97</td>\n",
       "      <td>0.98</td>\n",
       "      <td>0.02</td>\n",
       "    </tr>\n",
       "    <tr>\n",
       "      <th>LabelSpreading</th>\n",
       "      <td>0.98</td>\n",
       "      <td>0.97</td>\n",
       "      <td>0.97</td>\n",
       "      <td>0.98</td>\n",
       "      <td>0.02</td>\n",
       "    </tr>\n",
       "    <tr>\n",
       "      <th>BaggingClassifier</th>\n",
       "      <td>0.97</td>\n",
       "      <td>0.97</td>\n",
       "      <td>0.97</td>\n",
       "      <td>0.97</td>\n",
       "      <td>0.04</td>\n",
       "    </tr>\n",
       "    <tr>\n",
       "      <th>PassiveAggressiveClassifier</th>\n",
       "      <td>0.98</td>\n",
       "      <td>0.97</td>\n",
       "      <td>0.97</td>\n",
       "      <td>0.98</td>\n",
       "      <td>0.01</td>\n",
       "    </tr>\n",
       "    <tr>\n",
       "      <th>SGDClassifier</th>\n",
       "      <td>0.98</td>\n",
       "      <td>0.97</td>\n",
       "      <td>0.97</td>\n",
       "      <td>0.98</td>\n",
       "      <td>0.01</td>\n",
       "    </tr>\n",
       "    <tr>\n",
       "      <th>RandomForestClassifier</th>\n",
       "      <td>0.97</td>\n",
       "      <td>0.97</td>\n",
       "      <td>0.97</td>\n",
       "      <td>0.97</td>\n",
       "      <td>0.15</td>\n",
       "    </tr>\n",
       "    <tr>\n",
       "      <th>CalibratedClassifierCV</th>\n",
       "      <td>0.98</td>\n",
       "      <td>0.97</td>\n",
       "      <td>0.97</td>\n",
       "      <td>0.98</td>\n",
       "      <td>0.03</td>\n",
       "    </tr>\n",
       "    <tr>\n",
       "      <th>QuadraticDiscriminantAnalysis</th>\n",
       "      <td>0.96</td>\n",
       "      <td>0.97</td>\n",
       "      <td>0.97</td>\n",
       "      <td>0.97</td>\n",
       "      <td>0.01</td>\n",
       "    </tr>\n",
       "    <tr>\n",
       "      <th>ExtraTreesClassifier</th>\n",
       "      <td>0.97</td>\n",
       "      <td>0.96</td>\n",
       "      <td>0.96</td>\n",
       "      <td>0.97</td>\n",
       "      <td>0.10</td>\n",
       "    </tr>\n",
       "    <tr>\n",
       "      <th>RidgeClassifierCV</th>\n",
       "      <td>0.97</td>\n",
       "      <td>0.96</td>\n",
       "      <td>0.96</td>\n",
       "      <td>0.97</td>\n",
       "      <td>0.01</td>\n",
       "    </tr>\n",
       "    <tr>\n",
       "      <th>LGBMClassifier</th>\n",
       "      <td>0.96</td>\n",
       "      <td>0.96</td>\n",
       "      <td>0.96</td>\n",
       "      <td>0.96</td>\n",
       "      <td>0.16</td>\n",
       "    </tr>\n",
       "    <tr>\n",
       "      <th>RidgeClassifier</th>\n",
       "      <td>0.97</td>\n",
       "      <td>0.96</td>\n",
       "      <td>0.96</td>\n",
       "      <td>0.97</td>\n",
       "      <td>0.01</td>\n",
       "    </tr>\n",
       "    <tr>\n",
       "      <th>AdaBoostClassifier</th>\n",
       "      <td>0.96</td>\n",
       "      <td>0.96</td>\n",
       "      <td>0.96</td>\n",
       "      <td>0.96</td>\n",
       "      <td>0.10</td>\n",
       "    </tr>\n",
       "    <tr>\n",
       "      <th>KNeighborsClassifier</th>\n",
       "      <td>0.96</td>\n",
       "      <td>0.96</td>\n",
       "      <td>0.96</td>\n",
       "      <td>0.96</td>\n",
       "      <td>0.02</td>\n",
       "    </tr>\n",
       "    <tr>\n",
       "      <th>BernoulliNB</th>\n",
       "      <td>0.95</td>\n",
       "      <td>0.95</td>\n",
       "      <td>0.95</td>\n",
       "      <td>0.95</td>\n",
       "      <td>0.01</td>\n",
       "    </tr>\n",
       "    <tr>\n",
       "      <th>LinearDiscriminantAnalysis</th>\n",
       "      <td>0.96</td>\n",
       "      <td>0.95</td>\n",
       "      <td>0.95</td>\n",
       "      <td>0.96</td>\n",
       "      <td>0.03</td>\n",
       "    </tr>\n",
       "    <tr>\n",
       "      <th>GaussianNB</th>\n",
       "      <td>0.95</td>\n",
       "      <td>0.95</td>\n",
       "      <td>0.95</td>\n",
       "      <td>0.95</td>\n",
       "      <td>0.01</td>\n",
       "    </tr>\n",
       "    <tr>\n",
       "      <th>NuSVC</th>\n",
       "      <td>0.95</td>\n",
       "      <td>0.94</td>\n",
       "      <td>0.94</td>\n",
       "      <td>0.95</td>\n",
       "      <td>0.02</td>\n",
       "    </tr>\n",
       "    <tr>\n",
       "      <th>ExtraTreeClassifier</th>\n",
       "      <td>0.94</td>\n",
       "      <td>0.93</td>\n",
       "      <td>0.93</td>\n",
       "      <td>0.94</td>\n",
       "      <td>0.01</td>\n",
       "    </tr>\n",
       "    <tr>\n",
       "      <th>NearestCentroid</th>\n",
       "      <td>0.95</td>\n",
       "      <td>0.93</td>\n",
       "      <td>0.93</td>\n",
       "      <td>0.95</td>\n",
       "      <td>0.01</td>\n",
       "    </tr>\n",
       "    <tr>\n",
       "      <th>DecisionTreeClassifier</th>\n",
       "      <td>0.93</td>\n",
       "      <td>0.93</td>\n",
       "      <td>0.93</td>\n",
       "      <td>0.93</td>\n",
       "      <td>0.01</td>\n",
       "    </tr>\n",
       "    <tr>\n",
       "      <th>DummyClassifier</th>\n",
       "      <td>0.53</td>\n",
       "      <td>0.50</td>\n",
       "      <td>0.50</td>\n",
       "      <td>0.53</td>\n",
       "      <td>0.01</td>\n",
       "    </tr>\n",
       "  </tbody>\n",
       "</table>\n",
       "</div>"
      ],
      "text/plain": [
       "                               Accuracy  Balanced Accuracy  ROC AUC  F1 Score  \\\n",
       "Model                                                                           \n",
       "LinearSVC                          0.99               0.99     0.99      0.99   \n",
       "Perceptron                         0.99               0.98     0.98      0.99   \n",
       "LogisticRegression                 0.99               0.98     0.98      0.99   \n",
       "SVC                                0.98               0.98     0.98      0.98   \n",
       "XGBClassifier                      0.98               0.98     0.98      0.98   \n",
       "LabelPropagation                   0.98               0.97     0.97      0.98   \n",
       "LabelSpreading                     0.98               0.97     0.97      0.98   \n",
       "BaggingClassifier                  0.97               0.97     0.97      0.97   \n",
       "PassiveAggressiveClassifier        0.98               0.97     0.97      0.98   \n",
       "SGDClassifier                      0.98               0.97     0.97      0.98   \n",
       "RandomForestClassifier             0.97               0.97     0.97      0.97   \n",
       "CalibratedClassifierCV             0.98               0.97     0.97      0.98   \n",
       "QuadraticDiscriminantAnalysis      0.96               0.97     0.97      0.97   \n",
       "ExtraTreesClassifier               0.97               0.96     0.96      0.97   \n",
       "RidgeClassifierCV                  0.97               0.96     0.96      0.97   \n",
       "LGBMClassifier                     0.96               0.96     0.96      0.96   \n",
       "RidgeClassifier                    0.97               0.96     0.96      0.97   \n",
       "AdaBoostClassifier                 0.96               0.96     0.96      0.96   \n",
       "KNeighborsClassifier               0.96               0.96     0.96      0.96   \n",
       "BernoulliNB                        0.95               0.95     0.95      0.95   \n",
       "LinearDiscriminantAnalysis         0.96               0.95     0.95      0.96   \n",
       "GaussianNB                         0.95               0.95     0.95      0.95   \n",
       "NuSVC                              0.95               0.94     0.94      0.95   \n",
       "ExtraTreeClassifier                0.94               0.93     0.93      0.94   \n",
       "NearestCentroid                    0.95               0.93     0.93      0.95   \n",
       "DecisionTreeClassifier             0.93               0.93     0.93      0.93   \n",
       "DummyClassifier                    0.53               0.50     0.50      0.53   \n",
       "\n",
       "                               Time Taken  \n",
       "Model                                      \n",
       "LinearSVC                            0.03  \n",
       "Perceptron                           0.01  \n",
       "LogisticRegression                   0.03  \n",
       "SVC                                  0.02  \n",
       "XGBClassifier                        0.07  \n",
       "LabelPropagation                     0.02  \n",
       "LabelSpreading                       0.02  \n",
       "BaggingClassifier                    0.04  \n",
       "PassiveAggressiveClassifier          0.01  \n",
       "SGDClassifier                        0.01  \n",
       "RandomForestClassifier               0.15  \n",
       "CalibratedClassifierCV               0.03  \n",
       "QuadraticDiscriminantAnalysis        0.01  \n",
       "ExtraTreesClassifier                 0.10  \n",
       "RidgeClassifierCV                    0.01  \n",
       "LGBMClassifier                       0.16  \n",
       "RidgeClassifier                      0.01  \n",
       "AdaBoostClassifier                   0.10  \n",
       "KNeighborsClassifier                 0.02  \n",
       "BernoulliNB                          0.01  \n",
       "LinearDiscriminantAnalysis           0.03  \n",
       "GaussianNB                           0.01  \n",
       "NuSVC                                0.02  \n",
       "ExtraTreeClassifier                  0.01  \n",
       "NearestCentroid                      0.01  \n",
       "DecisionTreeClassifier               0.01  \n",
       "DummyClassifier                      0.01  "
      ]
     },
     "execution_count": 3,
     "metadata": {},
     "output_type": "execute_result"
    }
   ],
   "source": [
    "models"
   ]
  },
  {
   "cell_type": "markdown",
   "id": "aboriginal-condition",
   "metadata": {
    "ExecuteTime": {
     "end_time": "2021-03-26T04:15:50.589609Z",
     "start_time": "2021-03-26T04:15:50.584703Z"
    }
   },
   "source": [
    "**Comment:** 1 means truthful, 0 means deceptive"
   ]
  },
  {
   "cell_type": "code",
   "execution_count": 11,
   "id": "chicken-glance",
   "metadata": {
    "ExecuteTime": {
     "end_time": "2021-03-26T23:14:05.688816Z",
     "start_time": "2021-03-26T23:14:05.322251Z"
    }
   },
   "outputs": [],
   "source": [
    "from sklearn.model_selection import StratifiedShuffleSplit\n",
    "\n",
    "split = StratifiedShuffleSplit(n_splits=1, test_size=0.025, random_state=42)\n",
    "\n",
    "for train_index, test_index in split.split(x, y):\n",
    "    strat_train_set = concat_data.loc[train_index]\n",
    "    strat_test_set = concat_data.loc[test_index]\n",
    "\n",
    "for train_index, validation_index in split.split(strat_train_set[\"text\"], strat_train_set[\"deceptive\"]):\n",
    "    strat_train_set = concat_data.loc[train_index]\n",
    "    strat_validation_set = concat_data.loc[validation_index]\n"
   ]
  },
  {
   "cell_type": "code",
   "execution_count": 12,
   "id": "structural-grain",
   "metadata": {
    "ExecuteTime": {
     "end_time": "2021-03-26T23:14:05.695315Z",
     "start_time": "2021-03-26T23:14:05.690081Z"
    }
   },
   "outputs": [
    {
     "data": {
      "text/plain": [
       "(339191, 2)"
      ]
     },
     "execution_count": 12,
     "metadata": {},
     "output_type": "execute_result"
    },
    {
     "data": {
      "text/plain": [
       "(8698, 2)"
      ]
     },
     "execution_count": 12,
     "metadata": {},
     "output_type": "execute_result"
    },
    {
     "data": {
      "text/plain": [
       "(8921, 2)"
      ]
     },
     "execution_count": 12,
     "metadata": {},
     "output_type": "execute_result"
    }
   ],
   "source": [
    "strat_train_set.shape\n",
    "strat_validation_set.shape\n",
    "strat_test_set.shape"
   ]
  },
  {
   "cell_type": "code",
   "execution_count": 13,
   "id": "packed-judges",
   "metadata": {
    "ExecuteTime": {
     "end_time": "2021-03-26T23:14:05.752553Z",
     "start_time": "2021-03-26T23:14:05.696848Z"
    }
   },
   "outputs": [
    {
     "data": {
      "text/html": [
       "<div>\n",
       "<style scoped>\n",
       "    .dataframe tbody tr th:only-of-type {\n",
       "        vertical-align: middle;\n",
       "    }\n",
       "\n",
       "    .dataframe tbody tr th {\n",
       "        vertical-align: top;\n",
       "    }\n",
       "\n",
       "    .dataframe thead th {\n",
       "        text-align: right;\n",
       "    }\n",
       "</style>\n",
       "<table border=\"1\" class=\"dataframe\">\n",
       "  <thead>\n",
       "    <tr style=\"text-align: right;\">\n",
       "      <th></th>\n",
       "      <th>deceptive</th>\n",
       "      <th>text</th>\n",
       "    </tr>\n",
       "  </thead>\n",
       "  <tbody>\n",
       "    <tr>\n",
       "      <th>301906</th>\n",
       "      <td>truthful</td>\n",
       "      <td>cell like rooms did not appeal to us difficul...</td>\n",
       "    </tr>\n",
       "    <tr>\n",
       "      <th>238848</th>\n",
       "      <td>truthful</td>\n",
       "      <td>the red curry sunfish banh mi is a nearly perf...</td>\n",
       "    </tr>\n",
       "    <tr>\n",
       "      <th>96414</th>\n",
       "      <td>truthful</td>\n",
       "      <td>this new place is pretty popular  i really lik...</td>\n",
       "    </tr>\n",
       "    <tr>\n",
       "      <th>217351</th>\n",
       "      <td>truthful</td>\n",
       "      <td>heard about this place  dropped in once withou...</td>\n",
       "    </tr>\n",
       "    <tr>\n",
       "      <th>101243</th>\n",
       "      <td>truthful</td>\n",
       "      <td>star falafel</td>\n",
       "    </tr>\n",
       "  </tbody>\n",
       "</table>\n",
       "</div>"
      ],
      "text/plain": [
       "       deceptive                                               text\n",
       "301906  truthful   cell like rooms did not appeal to us difficul...\n",
       "238848  truthful  the red curry sunfish banh mi is a nearly perf...\n",
       "96414   truthful  this new place is pretty popular  i really lik...\n",
       "217351  truthful  heard about this place  dropped in once withou...\n",
       "101243  truthful                                       star falafel"
      ]
     },
     "execution_count": 13,
     "metadata": {},
     "output_type": "execute_result"
    }
   ],
   "source": [
    "strat_train_set.head()"
   ]
  },
  {
   "cell_type": "code",
   "execution_count": 14,
   "id": "rapid-prime",
   "metadata": {
    "ExecuteTime": {
     "end_time": "2021-03-26T23:15:10.256177Z",
     "start_time": "2021-03-26T23:14:05.753923Z"
    }
   },
   "outputs": [],
   "source": [
    "from sklearn.feature_extraction.text import CountVectorizer\n",
    "cv=CountVectorizer(ngram_range=(1,2))\n",
    "x_train=cv.fit_transform(strat_train_set[\"text\"])\n",
    "y_train=le.fit_transform(strat_train_set[\"deceptive\"])\n",
    "x_valid=cv.fit_transform(strat_validation_set[\"text\"])\n",
    "y_valid=le.fit_transform(strat_validation_set[\"deceptive\"])\n",
    "x_test=cv.fit_transform(strat_test_set[\"text\"])\n",
    "y_test=le.fit_transform(strat_test_set[\"deceptive\"])"
   ]
  },
  {
   "cell_type": "code",
   "execution_count": 15,
   "id": "detected-audio",
   "metadata": {
    "ExecuteTime": {
     "end_time": "2021-03-26T23:15:10.484316Z",
     "start_time": "2021-03-26T23:15:10.258733Z"
    }
   },
   "outputs": [
    {
     "name": "stderr",
     "output_type": "stream",
     "text": [
      "/home/bryanle/miniconda3/envs/GPU/lib/python3.8/site-packages/sklearn/utils/validation.py:67: FutureWarning: Pass classes=['deceptive' 'truthful'], y=301906    truthful\n",
      "238848    truthful\n",
      "96414     truthful\n",
      "217351    truthful\n",
      "101243    truthful\n",
      "            ...   \n",
      "156418    truthful\n",
      "319286    truthful\n",
      "277541    truthful\n",
      "309460    truthful\n",
      "131382    truthful\n",
      "Name: deceptive, Length: 339191, dtype: object as keyword args. From version 0.25 passing these as positional arguments will result in an error\n",
      "  warnings.warn(\"Pass {} as keyword args. From version 0.25 \"\n"
     ]
    },
    {
     "data": {
      "text/plain": [
       "array([4.79394805, 0.55822148])"
      ]
     },
     "execution_count": 15,
     "metadata": {},
     "output_type": "execute_result"
    }
   ],
   "source": [
    "#calculating the weight of each class\n",
    "from sklearn.utils.class_weight import compute_class_weight\n",
    "class_weights = compute_class_weight('balanced', np.unique(strat_train_set[\"deceptive\"]), strat_train_set[\"deceptive\"])\n",
    "class_weights "
   ]
  },
  {
   "cell_type": "code",
   "execution_count": 16,
   "id": "several-locking",
   "metadata": {
    "ExecuteTime": {
     "end_time": "2021-03-26T23:15:30.981362Z",
     "start_time": "2021-03-26T23:15:30.969756Z"
    }
   },
   "outputs": [],
   "source": [
    "from sklearn.metrics import precision_score, recall_score, f1_score, accuracy_score, confusion_matrix, matthews_corrcoef\n",
    "\n",
    "def model_testing(x_test, y_test, y_train, x_train):\n",
    "    models = [\n",
    "        LogisticRegression(max_iter = 10000),\n",
    "        SVC(),\n",
    "        MultinomialNB()\n",
    "        #CatBoostClassifier(iterations=100, task_type=\"GPU\", learning_rate=0.05, l2_leaf_reg=1, depth=11, loss_function= 'Logloss', eval_metric='AUC',random_seed=42, class_weights=[4.79, 0.56], verbose=False)\n",
    "        ]\n",
    "\n",
    "    for clf in models:\n",
    "        model_name = clf.__class__.__name__\n",
    "        clf.fit(x_train, y_train)\n",
    "        print(model_name)\n",
    "        # Do the prediction\n",
    "        y_predict =clf.predict(cv.transform(x_test))\n",
    "        print(confusion_matrix(y_test,y_predict))\n",
    "        recall=recall_score(y_test,y_predict,average='macro')\n",
    "        precision=precision_score(y_test,y_predict,average='macro')\n",
    "        f1score=f1_score(y_test,y_predict,average='macro')\n",
    "        accuracy=accuracy_score(y_test,y_predict)\n",
    "        matthews = matthews_corrcoef(y_test,y_predict) \n",
    "        print('Accuracy: '+ str(accuracy))\n",
    "        print('Macro Precision: '+ str(precision))\n",
    "        print('Macro Recall: '+ str(recall))\n",
    "        print('Macro F1 score:'+ str(f1score))\n",
    "        print('MCC:'+ str(matthews))"
   ]
  },
  {
   "cell_type": "code",
   "execution_count": 16,
   "id": "coastal-negotiation",
   "metadata": {
    "ExecuteTime": {
     "end_time": "2021-03-26T23:07:03.215950Z",
     "start_time": "2021-03-26T23:07:03.208986Z"
    }
   },
   "outputs": [],
   "source": [
    "#build the model with hyperparameters\n",
    "model = CatBoostClassifier(iterations=100, task_type=\"GPU\", learning_rate=0.05, l2_leaf_reg=1, depth=11, loss_function= 'Logloss', eval_metric='AUC',random_seed=42, verbose=False)"
   ]
  },
  {
   "cell_type": "code",
   "execution_count": null,
   "id": "crude-control",
   "metadata": {
    "ExecuteTime": {
     "start_time": "2021-03-26T23:08:28.607Z"
    }
   },
   "outputs": [],
   "source": [
    "model.fit(x_train,y_train,\n",
    "          eval_set=(x_valid, y_valid),plot =True)\n"
   ]
  },
  {
   "cell_type": "markdown",
   "id": "african-looking",
   "metadata": {},
   "source": [
    "# References\n",
    "We report here relevant references:\n",
    "1. author1, article1, journal1, year1, url1\n",
    "2. author2, article2, journal2, year2, url2"
   ]
  },
  {
   "cell_type": "code",
   "execution_count": null,
   "id": "informational-franchise",
   "metadata": {},
   "outputs": [],
   "source": []
  },
  {
   "cell_type": "code",
   "execution_count": null,
   "id": "quick-ranch",
   "metadata": {},
   "outputs": [],
   "source": []
  }
 ],
 "metadata": {
  "kernelspec": {
   "display_name": "Python 3",
   "language": "python",
   "name": "python3"
  },
  "language_info": {
   "codemirror_mode": {
    "name": "ipython",
    "version": 3
   },
   "file_extension": ".py",
   "mimetype": "text/x-python",
   "name": "python",
   "nbconvert_exporter": "python",
   "pygments_lexer": "ipython3",
   "version": "3.8.8"
  },
  "toc": {
   "base_numbering": 1,
   "nav_menu": {},
   "number_sections": true,
   "sideBar": true,
   "skip_h1_title": false,
   "title_cell": "Table of Contents",
   "title_sidebar": "Contents",
   "toc_cell": false,
   "toc_position": {},
   "toc_section_display": true,
   "toc_window_display": false
  },
  "varInspector": {
   "cols": {
    "lenName": 16,
    "lenType": 16,
    "lenVar": 40
   },
   "kernels_config": {
    "python": {
     "delete_cmd_postfix": "",
     "delete_cmd_prefix": "del ",
     "library": "var_list.py",
     "varRefreshCmd": "print(var_dic_list())"
    },
    "r": {
     "delete_cmd_postfix": ") ",
     "delete_cmd_prefix": "rm(",
     "library": "var_list.r",
     "varRefreshCmd": "cat(var_dic_list()) "
    }
   },
   "types_to_exclude": [
    "module",
    "function",
    "builtin_function_or_method",
    "instance",
    "_Feature"
   ],
   "window_display": false
  }
 },
 "nbformat": 4,
 "nbformat_minor": 5
}
